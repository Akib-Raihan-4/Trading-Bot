{
 "cells": [
  {
   "cell_type": "code",
   "execution_count": 12,
   "metadata": {},
   "outputs": [],
   "source": [
    "from lumibot.brokers import Alpaca\n",
    "from lumibot.backtesting import YahooDataBacktesting\n",
    "from lumibot.strategies.strategy import Strategy\n",
    "from lumibot.traders import Trader\n",
    "from datetime import datetime"
   ]
  },
  {
   "cell_type": "code",
   "execution_count": 13,
   "metadata": {},
   "outputs": [],
   "source": [
    "API_KEY = \"PK1KAWB732Z95VFMPIEB\"\n",
    "API_SECRET = \"lRxdiVh4jOoyZQvgUdqplHNuQZWI9apIPIXPaoaM\"\n",
    "BASE_URL = \"https://paper-api.alpaca.markets\""
   ]
  },
  {
   "cell_type": "code",
   "execution_count": 14,
   "metadata": {},
   "outputs": [
    {
     "name": "stderr",
     "output_type": "stream",
     "text": [
      "WARNING:alpaca.trading.stream:trading stream websocket error, restarting  connection: server rejected WebSocket connection: HTTP 429\n",
      "WARNING:alpaca.trading.stream:trading stream websocket error, restarting  connection: server rejected WebSocket connection: HTTP 429\n",
      "WARNING:alpaca.trading.stream:trading stream websocket error, restarting  connection: server rejected WebSocket connection: HTTP 429\n",
      "WARNING:alpaca.trading.stream:trading stream websocket error, restarting  connection: server rejected WebSocket connection: HTTP 429\n",
      "WARNING:alpaca.trading.stream:trading stream websocket error, restarting  connection: server rejected WebSocket connection: HTTP 429\n",
      "WARNING:alpaca.trading.stream:trading stream websocket error, restarting  connection: server rejected WebSocket connection: HTTP 429\n",
      "WARNING:alpaca.trading.stream:trading stream websocket error, restarting  connection: server rejected WebSocket connection: HTTP 429\n",
      "WARNING:alpaca.trading.stream:trading stream websocket error, restarting  connection: server rejected WebSocket connection: HTTP 429\n",
      "WARNING:alpaca.trading.stream:trading stream websocket error, restarting  connection: server rejected WebSocket connection: HTTP 429\n",
      "WARNING:alpaca.trading.stream:trading stream websocket error, restarting  connection: server rejected WebSocket connection: HTTP 429\n",
      "INFO:backtest_stats:Starting backtest...\n"
     ]
    },
    {
     "name": "stdout",
     "output_type": "stream",
     "text": [
      "Starting backtest for MLTrader...\n",
      "Progress |\u001b[32m\u001b[0m| 100.00%  [Elapsed: 0:00:02 ETA: 0:00:00] Portfolio Val: 100,089.06\n",
      "Creating trades plot...\n",
      "\n",
      "Creating indicators plot...\n",
      "\n",
      "Creating tearsheet...\n"
     ]
    },
    {
     "data": {
      "text/plain": [
       "{'cagr': 0.021913100094892446,\n",
       " 'volatility': 0.0026689130121717655,\n",
       " 'sharpe': -11.27309052807098,\n",
       " 'max_drawdown': {'drawdown': 0.00026283290598837526,\n",
       "  'date': Timestamp('2023-12-21 09:30:00-0500', tz='America/New_York')},\n",
       " 'romad': 83.37274213245442,\n",
       " 'total_return': 0.0008905999999997416}"
      ]
     },
     "execution_count": 14,
     "metadata": {},
     "output_type": "execute_result"
    }
   ],
   "source": [
    "ALPACA_CREDS = {\n",
    "    \"API_KEY\":API_KEY,\n",
    "    \"API_SECRET\":API_SECRET,\n",
    "    \"PAPER\": True\n",
    "}\n",
    "\n",
    "class MLTrader(Strategy):\n",
    "    def initialize(self, symbol:str=\"SPY\"):\n",
    "        self.symbol = symbol\n",
    "        self.sleeptime = \"24H\"\n",
    "        self.last_trade = None\n",
    "\n",
    "    def on_trading_iteration(self):\n",
    "        if self.last_trade == None:\n",
    "            order = self.create_order(\n",
    "                self.symbol,\n",
    "                10,\n",
    "                \"buy\",\n",
    "                type=\"market\"\n",
    "            )\n",
    "            self.submit_order(order)\n",
    "            self.last_trade = \"buy\"\n",
    "\n",
    "\n",
    "brokers = Alpaca(ALPACA_CREDS)\n",
    "strategy = MLTrader(name='mlstrat', broker=brokers, parameters={\"symbol\": \"SPY\"})\n",
    "\n",
    "start_date = datetime(2023,12,15)\n",
    "end_date = datetime(2023,12,31)\n",
    "\n",
    "strategy.backtest(\n",
    "    YahooDataBacktesting,\n",
    "    start_date,\n",
    "    end_date,\n",
    "    parameters={\"symbol\": \"SPY\"}\n",
    ")"
   ]
  }
 ],
 "metadata": {
  "kernelspec": {
   "display_name": "trading_env",
   "language": "python",
   "name": "python3"
  },
  "language_info": {
   "codemirror_mode": {
    "name": "ipython",
    "version": 3
   },
   "file_extension": ".py",
   "mimetype": "text/x-python",
   "name": "python",
   "nbconvert_exporter": "python",
   "pygments_lexer": "ipython3",
   "version": "3.11.0"
  }
 },
 "nbformat": 4,
 "nbformat_minor": 2
}
