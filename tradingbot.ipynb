{
 "cells": [
  {
   "cell_type": "code",
   "execution_count": 3,
   "metadata": {},
   "outputs": [],
   "source": [
    "from lumibot.brokers import Alpaca\n",
    "from lumibot.backtesting import YahooDataBacktesting\n",
    "from lumibot.strategies.strategy import Strategy\n",
    "from lumibot.traders import Trader\n",
    "from datetime import datetime\n",
    "from alpaca_trade_api import REST\n",
    "from timedelta import Timedelta"
   ]
  },
  {
   "cell_type": "code",
   "execution_count": 4,
   "metadata": {},
   "outputs": [],
   "source": [
    "API_KEY = \"PK1KAWB732Z95VFMPIEB\"\n",
    "API_SECRET = \"lRxdiVh4jOoyZQvgUdqplHNuQZWI9apIPIXPaoaM\"\n",
    "BASE_URL = \"https://paper-api.alpaca.markets\"\n",
    "ALPACA_CREDS = {\n",
    "    \"API_KEY\":API_KEY,\n",
    "    \"API_SECRET\":API_SECRET,\n",
    "    \"PAPER\": True\n",
    "}"
   ]
  },
  {
   "cell_type": "markdown",
   "metadata": {},
   "source": [
    "## ML Components for news (Sentimental Analysis)"
   ]
  },
  {
   "cell_type": "markdown",
   "metadata": {},
   "source": [
    "### Importing transformer and testing the sentimental Analysis"
   ]
  },
  {
   "cell_type": "code",
   "execution_count": 5,
   "metadata": {},
   "outputs": [],
   "source": [
    "from transformers import AutoTokenizer, AutoModelForSequenceClassification\n",
    "import torch\n",
    "from typing import Tuple"
   ]
  },
  {
   "cell_type": "code",
   "execution_count": 6,
   "metadata": {},
   "outputs": [],
   "source": [
    "device = \"cudo:0\" if torch.cuda.is_available() else \"cpu\"\n",
    "\n",
    "tokenizer = AutoTokenizer.from_pretrained(\"ProsusAI/finbert\")\n",
    "model = AutoModelForSequenceClassification.from_pretrained(\"ProsusAI/finbert\").to(device)\n",
    "labels = [\"positive\", \"negative\", \"neutral\"]"
   ]
  },
  {
   "cell_type": "code",
   "execution_count": 7,
   "metadata": {},
   "outputs": [],
   "source": [
    "def estimate_sentiment(news):\n",
    "    if news:\n",
    "        tokens = tokenizer(news, return_tensors=\"pt\", padding=True).to(device)\n",
    "\n",
    "        result = model(tokens[\"input_ids\"], attention_mask = tokens[\"attention_mask\"])[\"logits\"]\n",
    "\n",
    "        result = torch.nn.functional.softmax(torch.sum(result, 0), dim = -1)\n",
    "        probability = result[torch.argmax(result)]\n",
    "        sentiment = labels[torch.argmax(result)]\n",
    "        return probability, sentiment\n",
    "    \n",
    "    else:\n",
    "        return 0, labels[-1]\n",
    "    "
   ]
  },
  {
   "cell_type": "code",
   "execution_count": 8,
   "metadata": {},
   "outputs": [
    {
     "name": "stdout",
     "output_type": "stream",
     "text": [
      "tensor(0.9979, grad_fn=<SelectBackward0>) negative\n",
      "False\n"
     ]
    }
   ],
   "source": [
    "if __name__ == \"__main__\":\n",
    "    tensor, sentiment = estimate_sentiment(['markets responded negatively to the news!','traders were displeased!'])\n",
    "    print(tensor, sentiment)\n",
    "    print(torch.cuda.is_available())"
   ]
  },
  {
   "cell_type": "markdown",
   "metadata": {},
   "source": [
    "## Backtesting Stocks using ML "
   ]
  },
  {
   "cell_type": "code",
   "execution_count": 9,
   "metadata": {},
   "outputs": [],
   "source": [
    "\n",
    "\n",
    "class MLTrader(Strategy):\n",
    "    def initialize(self, symbol:str=\"GOOGL\", cash_at_risk:float = .5):\n",
    "        self.cash_at_risk = cash_at_risk\n",
    "        self.symbol = symbol\n",
    "        self.sleeptime = \"24H\"\n",
    "        self.last_trade = None\n",
    "        self.api = REST(base_url=BASE_URL, \n",
    "                        key_id=API_KEY, \n",
    "                        secret_key=API_SECRET)\n",
    "    \n",
    "    def position_sizing(self):\n",
    "        cash = self.get_cash()\n",
    "        last_price = self.get_last_price(self.symbol)\n",
    "        quantity = round(cash * self.cash_at_risk / last_price, 0)\n",
    "\n",
    "        return cash, last_price, quantity\n",
    "    \n",
    "    def get_dates(self):\n",
    "        today = self.get_datetime()\n",
    "        three_days_prior = today - Timedelta(days = 3)\n",
    "        return today.strftime('%Y-%m-%d'), three_days_prior.strftime('%Y-%m-%d')\n",
    "    \n",
    "    def get_sentiment(self):\n",
    "        today, three_days_prior = self.get_dates()\n",
    "        news = self.api.get_news(symbol=self.symbol, \n",
    "                                 start = three_days_prior, \n",
    "                                 end = today )\n",
    "        \n",
    "        news = [ev.__dict__[\"_raw\"][\"headline\"] for ev in news]\n",
    "\n",
    "        probability, sentiment  = estimate_sentiment(news)\n",
    "            \n",
    "        return probability, sentiment\n",
    "\n",
    "\n",
    "    def on_trading_iteration(self):\n",
    "        cash, last_price, quantity = self.position_sizing()\n",
    "        if cash > last_price:\n",
    "            if self.last_trade == None:\n",
    "                probability, sentiment = self.get_sentiment()\n",
    "                print(probability, sentiment)\n",
    "                order = self.create_order(\n",
    "                    self.symbol,\n",
    "                    quantity,\n",
    "                    \"buy\",\n",
    "                    type=\"bracket\",\n",
    "                    take_profit_price=last_price*1.20,\n",
    "                    stop_loss_price=last_price*.95\n",
    "                )\n",
    "                self.submit_order(order)\n",
    "                self.last_trade = \"buy\"\n",
    "        \n",
    "\n",
    "\n"
   ]
  },
  {
   "cell_type": "code",
   "execution_count": 10,
   "metadata": {},
   "outputs": [
    {
     "name": "stderr",
     "output_type": "stream",
     "text": [
      "INFO:backtest_stats:Starting backtest...\n"
     ]
    },
    {
     "name": "stdout",
     "output_type": "stream",
     "text": [
      "Starting backtest for MLTrader...\n",
      "Progress |\u001b[32m\u001b[0m|   2.47%  [Elapsed: 0:00:01 ETA: 0:00:47] tensor(1., grad_fn=<SelectBackward0>) neutral\n",
      "Progress |\u001b[32m\u001b[0m| 100.00%  [Elapsed: 0:00:03 ETA: 0:00:00] Portfolio Val: 103,043.80\n",
      "Creating trades plot...\n",
      "\n",
      "Creating indicators plot...\n",
      "\n",
      "Creating tearsheet...\n"
     ]
    },
    {
     "data": {
      "text/plain": [
       "{'cagr': 1.0753092333495213,\n",
       " 'volatility': 0.09183644996007587,\n",
       " 'sharpe': 11.138379544102913,\n",
       " 'max_drawdown': {'drawdown': 0.007176093998772082,\n",
       "  'date': Timestamp('2023-12-29 09:30:00-0500', tz='America/New_York')},\n",
       " 'romad': 149.84603511792346,\n",
       " 'total_return': 0.03043803710937465}"
      ]
     },
     "execution_count": 10,
     "metadata": {},
     "output_type": "execute_result"
    }
   ],
   "source": [
    "brokers = Alpaca(ALPACA_CREDS)\n",
    "strategy = MLTrader(name='mlstrat', broker=brokers, parameters={\"symbol\": \"GOOGL\", \n",
    "                                                                \"cash_at_risk\":.5})\n",
    "\n",
    "start_date = datetime(2023,12,15)\n",
    "end_date = datetime(2023,12,31)\n",
    "\n",
    "strategy.backtest(\n",
    "    YahooDataBacktesting,\n",
    "    start_date,\n",
    "    end_date,\n",
    "    parameters={\"symbol\": \"GOOGL\", \n",
    "                \"cash_at_risk\":.5}\n",
    ")"
   ]
  },
  {
   "cell_type": "code",
   "execution_count": 1,
   "metadata": {},
   "outputs": [],
   "source": [
    "# pip install alpaca-trade-api==3.1.1\n",
    "# pip install timedelta\n",
    "# pip install install torch torchvision torchaudio transformers"
   ]
  }
 ],
 "metadata": {
  "kernelspec": {
   "display_name": "trading_env",
   "language": "python",
   "name": "python3"
  },
  "language_info": {
   "codemirror_mode": {
    "name": "ipython",
    "version": 3
   },
   "file_extension": ".py",
   "mimetype": "text/x-python",
   "name": "python",
   "nbconvert_exporter": "python",
   "pygments_lexer": "ipython3",
   "version": "3.11.0"
  }
 },
 "nbformat": 4,
 "nbformat_minor": 2
}
