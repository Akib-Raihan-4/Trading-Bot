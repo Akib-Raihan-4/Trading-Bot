{
 "cells": [
  {
   "cell_type": "code",
   "execution_count": 3,
   "metadata": {},
   "outputs": [],
   "source": [
    "from lumibot.brokers import Alpaca\n",
    "from lumibot.backtesting import YahooDataBacktesting\n",
    "from lumibot.strategies.strategy import Strategy\n",
    "from lumibot.traders import Trader\n",
    "from datetime import datetime\n",
    "from alpaca_trade_api import REST\n",
    "from timedelta import Timedelta"
   ]
  },
  {
   "cell_type": "code",
   "execution_count": 4,
   "metadata": {},
   "outputs": [],
   "source": [
    "API_KEY = \"PK1KAWB732Z95VFMPIEB\"\n",
    "API_SECRET = \"lRxdiVh4jOoyZQvgUdqplHNuQZWI9apIPIXPaoaM\"\n",
    "BASE_URL = \"https://paper-api.alpaca.markets\"\n",
    "ALPACA_CREDS = {\n",
    "    \"API_KEY\":API_KEY,\n",
    "    \"API_SECRET\":API_SECRET,\n",
    "    \"PAPER\": True\n",
    "}"
   ]
  },
  {
   "cell_type": "code",
   "execution_count": 9,
   "metadata": {},
   "outputs": [
    {
     "name": "stdout",
     "output_type": "stream",
     "text": [
      "Starting backtest for MLTrader...\n",
      "Progress |\u001b[32m\u001b[0m|   2.47%  [Elapsed: 0:00:01 ETA: 0:00:57] [\"SpaceX Worth $180 Billion Now: Musk-Owned Company's Value Tops Boeing, Lockheed Martin, Disney, Verizon, IBM, Pfizer,  UPS\", \"'Google Plans New 'Pixie' AI Assistant for Pixel Phones' - The Information\", \"Tech Meets Tune: Universal Music's Lucian Grainge's Insights into AI's Resonance in the Melody of Tomorrow And How To Invest In The Soundscape\", \"Google's AI Search - A Double-Edged Sword for Publishers Like the Atlantic\", 'Market Clubhouse Morning Memo - December 14th, 2023 (Trade Strategy For SPY, QQQ, AAPL, MSFT, TSLA, NVDA, GOOGL, And META)', \"Can Alphabet's Gemini AI Catapult Google Ahead in Tech Race?\", 'European Commission Sends Request For Information To Apple And Google Under The Digital Services Act', \"Want To Repair Your iPhone Or MacBook At Home? Apple's New Diagnostic Tool Makes It Easy\", 'Google Is Showering Discounts On Pixel 8 Pro: Now YouTube Premium Subscribers Get Flat $325 Off', \"Why Sub-$50B Tech Could Outshine 'Magnificent Seven' In 2024, According To Munster: Could These 5 Stocks Fit The Bill?\"]\n",
      "Progress |\u001b[32m\u001b[0m| 100.00%  [Elapsed: 0:00:03 ETA: 0:00:00] Portfolio Val: 103,043.80\n",
      "Creating trades plot...\n",
      "\n",
      "Creating indicators plot...\n",
      "\n",
      "Creating tearsheet...\n"
     ]
    },
    {
     "data": {
      "text/plain": [
       "{'cagr': 1.0753092333495213,\n",
       " 'volatility': 0.09183644996007587,\n",
       " 'sharpe': 11.13892400269676,\n",
       " 'max_drawdown': {'drawdown': 0.007176093998772082,\n",
       "  'date': Timestamp('2023-12-29 09:30:00-0500', tz='America/New_York')},\n",
       " 'romad': 149.84603511792346,\n",
       " 'total_return': 0.03043803710937465}"
      ]
     },
     "execution_count": 9,
     "metadata": {},
     "output_type": "execute_result"
    }
   ],
   "source": [
    "\n",
    "\n",
    "class MLTrader(Strategy):\n",
    "    def initialize(self, symbol:str=\"GOOGL\", cash_at_risk:float = .5):\n",
    "        self.cash_at_risk = cash_at_risk\n",
    "        self.symbol = symbol\n",
    "        self.sleeptime = \"24H\"\n",
    "        self.last_trade = None\n",
    "        self.api = REST(base_url=BASE_URL, \n",
    "                        key_id=API_KEY, \n",
    "                        secret_key=API_SECRET)\n",
    "    \n",
    "    def position_sizing(self):\n",
    "        cash = self.get_cash()\n",
    "        last_price = self.get_last_price(self.symbol)\n",
    "        quantity = round(cash * self.cash_at_risk / last_price, 0)\n",
    "\n",
    "        return cash, last_price, quantity\n",
    "    \n",
    "    def get_dates(self):\n",
    "        today = self.get_datetime()\n",
    "        three_days_prior = today - Timedelta(days = 3)\n",
    "        return today.strftime('%Y-%m-%d'), three_days_prior.strftime('%Y-%m-%d')\n",
    "    \n",
    "    def get_news(self):\n",
    "        today, three_days_prior = self.get_dates()\n",
    "        news = self.api.get_news(symbol=self.symbol, \n",
    "                                 start = three_days_prior, \n",
    "                                 end = today )\n",
    "        \n",
    "        news = [ev.__dict__[\"_raw\"][\"headline\"] for ev in news]\n",
    "        return news\n",
    "\n",
    "\n",
    "    def on_trading_iteration(self):\n",
    "        cash, last_price, quantity = self.position_sizing()\n",
    "        if cash > last_price:\n",
    "            if self.last_trade == None:\n",
    "                news = self.get_news()\n",
    "                print(news)\n",
    "                order = self.create_order(\n",
    "                    self.symbol,\n",
    "                    quantity,\n",
    "                    \"buy\",\n",
    "                    type=\"bracket\",\n",
    "                    take_profit_price=last_price*1.20,\n",
    "                    stop_loss_price=last_price*.95\n",
    "                )\n",
    "                self.submit_order(order)\n",
    "                self.last_trade = \"buy\"\n",
    "        \n",
    "\n",
    "\n",
    "brokers = Alpaca(ALPACA_CREDS)\n",
    "strategy = MLTrader(name='mlstrat', broker=brokers, parameters={\"symbol\": \"GOOGL\", \n",
    "                                                                \"cash_at_risk\":.5})\n",
    "\n",
    "start_date = datetime(2023,12,15)\n",
    "end_date = datetime(2023,12,31)\n",
    "\n",
    "strategy.backtest(\n",
    "    YahooDataBacktesting,\n",
    "    start_date,\n",
    "    end_date,\n",
    "    parameters={\"symbol\": \"GOOGL\", \n",
    "                \"cash_at_risk\":.5}\n",
    ")"
   ]
  },
  {
   "cell_type": "markdown",
   "metadata": {},
   "source": [
    "## ML Components for news (Sentimental Analysis)"
   ]
  },
  {
   "cell_type": "code",
   "execution_count": null,
   "metadata": {},
   "outputs": [],
   "source": [
    "# pip install alpaca-trade-api==3.1.1\n",
    "# pip install timedelta"
   ]
  }
 ],
 "metadata": {
  "kernelspec": {
   "display_name": "trading_env",
   "language": "python",
   "name": "python3"
  },
  "language_info": {
   "codemirror_mode": {
    "name": "ipython",
    "version": 3
   },
   "file_extension": ".py",
   "mimetype": "text/x-python",
   "name": "python",
   "nbconvert_exporter": "python",
   "pygments_lexer": "ipython3",
   "version": "3.11.0"
  }
 },
 "nbformat": 4,
 "nbformat_minor": 2
}
