{
 "cells": [
  {
   "cell_type": "code",
   "execution_count": 1,
   "metadata": {},
   "outputs": [],
   "source": [
    "from lumibot.brokers import Alpaca\n",
    "from lumibot.backtesting import YahooDataBacktesting\n",
    "from lumibot.strategies.strategy import Strategy\n",
    "from lumibot.traders import Trader\n",
    "from datetime import datetime\n",
    "from alpaca_trade_api import REST"
   ]
  },
  {
   "cell_type": "code",
   "execution_count": 2,
   "metadata": {},
   "outputs": [],
   "source": [
    "API_KEY = \"PK1KAWB732Z95VFMPIEB\"\n",
    "API_SECRET = \"lRxdiVh4jOoyZQvgUdqplHNuQZWI9apIPIXPaoaM\"\n",
    "BASE_URL = \"https://paper-api.alpaca.markets\"\n",
    "ALPACA_CREDS = {\n",
    "    \"API_KEY\":API_KEY,\n",
    "    \"API_SECRET\":API_SECRET,\n",
    "    \"PAPER\": True\n",
    "}"
   ]
  },
  {
   "cell_type": "code",
   "execution_count": 4,
   "metadata": {},
   "outputs": [
    {
     "name": "stderr",
     "output_type": "stream",
     "text": [
      "INFO:backtest_stats:Starting backtest...\n"
     ]
    },
    {
     "name": "stdout",
     "output_type": "stream",
     "text": [
      "Starting backtest for MLTrader...\n",
      "Progress |\u001b[32m\u001b[0m| 100.00%  [Elapsed: 0:00:01 ETA: 0:00:00] Portfolio Val: 100,944.04\n",
      "Creating trades plot...\n",
      "\n",
      "Creating indicators plot...\n",
      "\n",
      "Creating tearsheet...\n"
     ]
    },
    {
     "data": {
      "text/plain": [
       "{'cagr': 0.25708368926531966,\n",
       " 'volatility': 0.028190598556940217,\n",
       " 'sharpe': 7.270285016328554,\n",
       " 'max_drawdown': {'drawdown': 0.0027690901105407078,\n",
       "  'date': Timestamp('2023-12-21 09:30:00-0500', tz='America/New_York')},\n",
       " 'romad': 92.84049236488013,\n",
       " 'total_return': 0.00944036000000037}"
      ]
     },
     "execution_count": 4,
     "metadata": {},
     "output_type": "execute_result"
    }
   ],
   "source": [
    "\n",
    "\n",
    "class MLTrader(Strategy):\n",
    "    def initialize(self, symbol:str=\"SPY\", cash_at_risk:float = .5):\n",
    "        self.cash_at_risk = cash_at_risk\n",
    "        self.symbol = symbol\n",
    "        self.sleeptime = \"24H\"\n",
    "        self.last_trade = None\n",
    "    \n",
    "    def position_sizing(self):\n",
    "        cash = self.get_cash()\n",
    "        last_price = self.get_last_price(self.symbol)\n",
    "        quantity = round(cash * self.cash_at_risk / last_price, 0)\n",
    "\n",
    "        return cash, last_price, quantity\n",
    "    \n",
    "    def on_trading_iteration(self):\n",
    "        cash, last_price, quantity = self.position_sizing()\n",
    "        if cash > last_price:\n",
    "            if self.last_trade == None:\n",
    "                order = self.create_order(\n",
    "                    self.symbol,\n",
    "                    quantity,\n",
    "                    \"buy\",\n",
    "                    type=\"bracket\",\n",
    "                    take_profit_price=last_price*1.20,\n",
    "                    stop_loss_price=last_price*.95\n",
    "                )\n",
    "                self.submit_order(order)\n",
    "                self.last_trade = \"buy\"\n",
    "\n",
    "\n",
    "brokers = Alpaca(ALPACA_CREDS)\n",
    "strategy = MLTrader(name='mlstrat', broker=brokers, parameters={\"symbol\": \"SPY\", \n",
    "                                                                \"cash_at_risk\":.5})\n",
    "\n",
    "start_date = datetime(2023,12,15)\n",
    "end_date = datetime(2023,12,31)\n",
    "\n",
    "strategy.backtest(\n",
    "    YahooDataBacktesting,\n",
    "    start_date,\n",
    "    end_date,\n",
    "    parameters={\"symbol\": \"SPY\", \n",
    "                \"cash_at_risk\":.5}\n",
    ")"
   ]
  },
  {
   "cell_type": "markdown",
   "metadata": {},
   "source": [
    "## ML Components for news (Sentimental Analysis)"
   ]
  },
  {
   "cell_type": "code",
   "execution_count": null,
   "metadata": {},
   "outputs": [],
   "source": [
    "# pip install alpaca-trade-api==3.1.1"
   ]
  }
 ],
 "metadata": {
  "kernelspec": {
   "display_name": "trading_env",
   "language": "python",
   "name": "python3"
  },
  "language_info": {
   "codemirror_mode": {
    "name": "ipython",
    "version": 3
   },
   "file_extension": ".py",
   "mimetype": "text/x-python",
   "name": "python",
   "nbconvert_exporter": "python",
   "pygments_lexer": "ipython3",
   "version": "3.11.0"
  }
 },
 "nbformat": 4,
 "nbformat_minor": 2
}
